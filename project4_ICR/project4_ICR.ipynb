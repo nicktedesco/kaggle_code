{
 "cells": [
  {
   "attachments": {},
   "cell_type": "markdown",
   "metadata": {},
   "source": [
    "## Kaggle Project: Identifying Age-Related Conditions"
   ]
  },
  {
   "attachments": {},
   "cell_type": "markdown",
   "metadata": {},
   "source": [
    "#### Libraries and Data"
   ]
  },
  {
   "cell_type": "code",
   "execution_count": 82,
   "metadata": {},
   "outputs": [],
   "source": [
    "import pandas as pd\n",
    "from sklearn import preprocessing\n",
    "import numpy as np"
   ]
  },
  {
   "cell_type": "code",
   "execution_count": 83,
   "metadata": {},
   "outputs": [],
   "source": [
    "train = pd.read_csv(r\"C:\\Users\\nick_\\Documents\\GitHub\\kaggle_code\\project4_identifyAgeRelatedConditions\\train.csv\")\n",
    "test = pd.read_csv(r\"C:\\Users\\nick_\\Documents\\GitHub\\kaggle_code\\project4_identifyAgeRelatedConditions\\test.csv\")"
   ]
  },
  {
   "attachments": {},
   "cell_type": "markdown",
   "metadata": {},
   "source": [
    "#### Preprocessing"
   ]
  },
  {
   "attachments": {},
   "cell_type": "markdown",
   "metadata": {},
   "source": [
    "Separate training inputs and labels:"
   ]
  },
  {
   "cell_type": "code",
   "execution_count": 84,
   "metadata": {},
   "outputs": [],
   "source": [
    "train_ids = train.Id\n",
    "train_inputs = train.drop(columns=['Id', 'Class'])\n",
    "train_labels = train.Class"
   ]
  },
  {
   "attachments": {},
   "cell_type": "markdown",
   "metadata": {},
   "source": [
    "Convert only categorical column (EJ) to dummy variables:"
   ]
  },
  {
   "cell_type": "code",
   "execution_count": 85,
   "metadata": {},
   "outputs": [],
   "source": [
    "train_inputs = pd.get_dummies(train_inputs, columns=['EJ'])\n",
    "test = pd.get_dummies(test, columns=['EJ'])"
   ]
  },
  {
   "attachments": {},
   "cell_type": "markdown",
   "metadata": {},
   "source": [
    "Check missing value distribution:"
   ]
  },
  {
   "cell_type": "code",
   "execution_count": 86,
   "metadata": {},
   "outputs": [
    {
     "data": {
      "text/plain": [
       "AB      0.000000\n",
       "AF      0.000000\n",
       "AH      0.000000\n",
       "AM      0.000000\n",
       "AR      0.000000\n",
       "AX      0.000000\n",
       "AY      0.000000\n",
       "AZ      0.000000\n",
       "BC      0.000000\n",
       "BD      0.000000\n",
       "BN      0.000000\n",
       "BP      0.000000\n",
       "BQ      9.724473\n",
       "BR      0.000000\n",
       "BZ      0.000000\n",
       "CB      0.324149\n",
       "CC      0.486224\n",
       "CD      0.000000\n",
       "CF      0.000000\n",
       "CH      0.000000\n",
       "CL      0.000000\n",
       "CR      0.000000\n",
       "CS      0.000000\n",
       "CU      0.000000\n",
       "CW      0.000000\n",
       "DA      0.000000\n",
       "DE      0.000000\n",
       "DF      0.000000\n",
       "DH      0.000000\n",
       "DI      0.000000\n",
       "DL      0.000000\n",
       "DN      0.000000\n",
       "DU      0.162075\n",
       "DV      0.000000\n",
       "DY      0.000000\n",
       "EB      0.000000\n",
       "EE      0.000000\n",
       "EG      0.000000\n",
       "EH      0.000000\n",
       "EL      9.724473\n",
       "EP      0.000000\n",
       "EU      0.000000\n",
       "FC      0.162075\n",
       "FD      0.000000\n",
       "FE      0.000000\n",
       "FI      0.000000\n",
       "FL      0.162075\n",
       "FR      0.000000\n",
       "FS      0.324149\n",
       "GB      0.000000\n",
       "GE      0.000000\n",
       "GF      0.000000\n",
       "GH      0.000000\n",
       "GI      0.000000\n",
       "GL      0.162075\n",
       "EJ_A    0.000000\n",
       "EJ_B    0.000000\n",
       "dtype: float64"
      ]
     },
     "execution_count": 86,
     "metadata": {},
     "output_type": "execute_result"
    }
   ],
   "source": [
    "train_inputs.isnull().sum() / len(train) * 100"
   ]
  },
  {
   "attachments": {},
   "cell_type": "markdown",
   "metadata": {},
   "source": [
    "Replace missing values with mean of column:"
   ]
  },
  {
   "cell_type": "code",
   "execution_count": 87,
   "metadata": {},
   "outputs": [],
   "source": [
    "train_inputs.fillna(train_inputs.mean(), inplace=True)"
   ]
  },
  {
   "attachments": {},
   "cell_type": "markdown",
   "metadata": {},
   "source": [
    "Center and scale continuous inputs:"
   ]
  },
  {
   "cell_type": "code",
   "execution_count": 88,
   "metadata": {},
   "outputs": [],
   "source": [
    "train_inputs_continuous = train_inputs.drop(columns=['EJ_A', 'EJ_B'])\n",
    "train_inputs_categorical = train_inputs[['EJ_A', 'EJ_B']]"
   ]
  },
  {
   "cell_type": "code",
   "execution_count": 90,
   "metadata": {},
   "outputs": [],
   "source": [
    "scaler = preprocessing.StandardScaler().fit(train_inputs_continuous)\n",
    "train_inputs_continuous_scaled = scaler.transform(train_inputs_continuous)"
   ]
  },
  {
   "cell_type": "code",
   "execution_count": 92,
   "metadata": {},
   "outputs": [
    {
     "data": {
      "text/plain": [
       "array([[-0.57215263, -0.17097548, -0.26166896, ..., -0.94899124,\n",
       "         0.53124118, -0.81575237],\n",
       "       [-0.70910524, -1.09780089, -0.26166896, ..., -0.23886247,\n",
       "        -0.50921757,  1.30423877],\n",
       "       [-0.01521202, -0.37716884, -0.26166896, ..., -0.35174312,\n",
       "        -0.42475438, -0.80832304],\n",
       "       ...,\n",
       "       [-0.10651376, -0.45374164,  0.0901401 , ..., -0.54012922,\n",
       "         1.90344863,  1.30423877],\n",
       "       [-0.24346637, -0.9739043 , -0.26166896, ..., -0.64659191,\n",
       "        -0.37059857, -0.80951792],\n",
       "       [ 0.0121785 , -0.360885  ,  3.35098739, ...,  1.44641919,\n",
       "         1.77327595,  1.30423877]])"
      ]
     },
     "execution_count": 92,
     "metadata": {},
     "output_type": "execute_result"
    }
   ],
   "source": [
    "train_inputs_continuous_scaled"
   ]
  },
  {
   "attachments": {},
   "cell_type": "markdown",
   "metadata": {},
   "source": [
    "#### Modeling"
   ]
  },
  {
   "attachments": {},
   "cell_type": "markdown",
   "metadata": {},
   "source": [
    "Random Forest: "
   ]
  }
 ],
 "metadata": {
  "kernelspec": {
   "display_name": "Python 3",
   "language": "python",
   "name": "python3"
  },
  "language_info": {
   "codemirror_mode": {
    "name": "ipython",
    "version": 3
   },
   "file_extension": ".py",
   "mimetype": "text/x-python",
   "name": "python",
   "nbconvert_exporter": "python",
   "pygments_lexer": "ipython3",
   "version": "3.11.1"
  },
  "orig_nbformat": 4
 },
 "nbformat": 4,
 "nbformat_minor": 2
}
