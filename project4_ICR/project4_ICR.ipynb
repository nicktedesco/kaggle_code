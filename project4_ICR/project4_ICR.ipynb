{
 "cells": [
  {
   "cell_type": "markdown",
   "id": "4471e773",
   "metadata": {
    "papermill": {
     "duration": 0.007182,
     "end_time": "2023-06-30T01:54:03.244192",
     "exception": false,
     "start_time": "2023-06-30T01:54:03.237010",
     "status": "completed"
    },
    "tags": []
   },
   "source": [
    "# Kaggle Project: Identifying Age-Related Conditions"
   ]
  },
  {
   "cell_type": "markdown",
   "id": "a1377e1e",
   "metadata": {
    "papermill": {
     "duration": 0.005085,
     "end_time": "2023-06-30T01:54:03.254963",
     "exception": false,
     "start_time": "2023-06-30T01:54:03.249878",
     "status": "completed"
    },
    "tags": []
   },
   "source": [
    "## Model: TensorFlow Decision Forest"
   ]
  },
  {
   "cell_type": "markdown",
   "id": "d1006f13",
   "metadata": {
    "papermill": {
     "duration": 0.00481,
     "end_time": "2023-06-30T01:54:03.265059",
     "exception": false,
     "start_time": "2023-06-30T01:54:03.260249",
     "status": "completed"
    },
    "tags": []
   },
   "source": [
    "### Libraries and Data"
   ]
  },
  {
   "cell_type": "code",
   "execution_count": 1,
   "id": "976c6569",
   "metadata": {
    "execution": {
     "iopub.execute_input": "2023-06-30T01:54:03.278704Z",
     "iopub.status.busy": "2023-06-30T01:54:03.277847Z",
     "iopub.status.idle": "2023-06-30T01:54:15.167081Z",
     "shell.execute_reply": "2023-06-30T01:54:15.165896Z"
    },
    "papermill": {
     "duration": 11.899443,
     "end_time": "2023-06-30T01:54:15.169951",
     "exception": false,
     "start_time": "2023-06-30T01:54:03.270508",
     "status": "completed"
    },
    "tags": []
   },
   "outputs": [
    {
     "name": "stderr",
     "output_type": "stream",
     "text": [
      "/opt/conda/lib/python3.10/site-packages/tensorflow_io/python/ops/__init__.py:98: UserWarning: unable to load libtensorflow_io_plugins.so: unable to open file: libtensorflow_io_plugins.so, from paths: ['/opt/conda/lib/python3.10/site-packages/tensorflow_io/python/ops/libtensorflow_io_plugins.so']\n",
      "caused by: ['/opt/conda/lib/python3.10/site-packages/tensorflow_io/python/ops/libtensorflow_io_plugins.so: undefined symbol: _ZN3tsl6StatusC1EN10tensorflow5error4CodeESt17basic_string_viewIcSt11char_traitsIcEENS_14SourceLocationE']\n",
      "  warnings.warn(f\"unable to load libtensorflow_io_plugins.so: {e}\")\n",
      "/opt/conda/lib/python3.10/site-packages/tensorflow_io/python/ops/__init__.py:104: UserWarning: file system plugins are not loaded: unable to open file: libtensorflow_io.so, from paths: ['/opt/conda/lib/python3.10/site-packages/tensorflow_io/python/ops/libtensorflow_io.so']\n",
      "caused by: ['/opt/conda/lib/python3.10/site-packages/tensorflow_io/python/ops/libtensorflow_io.so: undefined symbol: _ZTVN10tensorflow13GcsFileSystemE']\n",
      "  warnings.warn(f\"file system plugins are not loaded: {e}\")\n"
     ]
    }
   ],
   "source": [
    "import pandas as pd\n",
    "import numpy as np\n",
    "\n",
    "from sklearn.model_selection import KFold, train_test_split\n",
    "\n",
    "from sklearn.preprocessing import StandardScaler, OneHotEncoder\n",
    "from sklearn.impute import SimpleImputer\n",
    "from sklearn.compose import ColumnTransformer\n",
    "from sklearn.pipeline import Pipeline\n",
    "\n",
    "from sklearn.model_selection import cross_val_score\n",
    "import tensorflow_decision_forests as tfdf\n",
    "\n",
    "## disable warnings from tfds\n",
    "import warnings\n",
    "warnings.filterwarnings('ignore')"
   ]
  },
  {
   "cell_type": "code",
   "execution_count": 2,
   "id": "3c21a109",
   "metadata": {
    "execution": {
     "iopub.execute_input": "2023-06-30T01:54:15.186131Z",
     "iopub.status.busy": "2023-06-30T01:54:15.184704Z",
     "iopub.status.idle": "2023-06-30T01:54:15.242410Z",
     "shell.execute_reply": "2023-06-30T01:54:15.240992Z"
    },
    "papermill": {
     "duration": 0.06763,
     "end_time": "2023-06-30T01:54:15.245035",
     "exception": false,
     "start_time": "2023-06-30T01:54:15.177405",
     "status": "completed"
    },
    "tags": []
   },
   "outputs": [],
   "source": [
    "train  = pd.read_csv(\"/kaggle/input/icr-identify-age-related-conditions/train.csv\",  index_col=\"Id\")\n",
    "test   = pd.read_csv(\"/kaggle/input/icr-identify-age-related-conditions/test.csv\",   index_col=\"Id\")\n",
    "greeks = pd.read_csv(\"/kaggle/input/icr-identify-age-related-conditions/greeks.csv\", index_col=\"Id\")"
   ]
  },
  {
   "cell_type": "markdown",
   "id": "3cc5edd6",
   "metadata": {
    "papermill": {
     "duration": 0.004976,
     "end_time": "2023-06-30T01:54:15.255723",
     "exception": false,
     "start_time": "2023-06-30T01:54:15.250747",
     "status": "completed"
    },
    "tags": []
   },
   "source": [
    "### Basic EDA"
   ]
  },
  {
   "cell_type": "code",
   "execution_count": 3,
   "id": "0612dd1f",
   "metadata": {
    "execution": {
     "iopub.execute_input": "2023-06-30T01:54:15.267637Z",
     "iopub.status.busy": "2023-06-30T01:54:15.267277Z",
     "iopub.status.idle": "2023-06-30T01:54:15.271945Z",
     "shell.execute_reply": "2023-06-30T01:54:15.271130Z"
    },
    "papermill": {
     "duration": 0.013564,
     "end_time": "2023-06-30T01:54:15.274269",
     "exception": false,
     "start_time": "2023-06-30T01:54:15.260705",
     "status": "completed"
    },
    "tags": []
   },
   "outputs": [
    {
     "name": "stdout",
     "output_type": "stream",
     "text": [
      "The training dataset has 617 rows and 57 columns\n",
      "The test dataset has 5 rows and 56 columns\n"
     ]
    }
   ],
   "source": [
    "print(f'The training dataset has {train.shape[0]} rows and {train.shape[1]} columns')\n",
    "print(f'The test dataset has {test.shape[0]} rows and {test.shape[1]} columns')"
   ]
  },
  {
   "cell_type": "code",
   "execution_count": 4,
   "id": "5802a01f",
   "metadata": {
    "execution": {
     "iopub.execute_input": "2023-06-30T01:54:15.288735Z",
     "iopub.status.busy": "2023-06-30T01:54:15.287963Z",
     "iopub.status.idle": "2023-06-30T01:54:15.332035Z",
     "shell.execute_reply": "2023-06-30T01:54:15.331150Z"
    },
    "papermill": {
     "duration": 0.054719,
     "end_time": "2023-06-30T01:54:15.334443",
     "exception": false,
     "start_time": "2023-06-30T01:54:15.279724",
     "status": "completed"
    },
    "tags": []
   },
   "outputs": [
    {
     "data": {
      "text/html": [
       "<div>\n",
       "<style scoped>\n",
       "    .dataframe tbody tr th:only-of-type {\n",
       "        vertical-align: middle;\n",
       "    }\n",
       "\n",
       "    .dataframe tbody tr th {\n",
       "        vertical-align: top;\n",
       "    }\n",
       "\n",
       "    .dataframe thead th {\n",
       "        text-align: right;\n",
       "    }\n",
       "</style>\n",
       "<table border=\"1\" class=\"dataframe\">\n",
       "  <thead>\n",
       "    <tr style=\"text-align: right;\">\n",
       "      <th></th>\n",
       "      <th>AB</th>\n",
       "      <th>AF</th>\n",
       "      <th>AH</th>\n",
       "      <th>AM</th>\n",
       "      <th>AR</th>\n",
       "      <th>AX</th>\n",
       "      <th>AY</th>\n",
       "      <th>AZ</th>\n",
       "      <th>BC</th>\n",
       "      <th>BD</th>\n",
       "      <th>...</th>\n",
       "      <th>FL</th>\n",
       "      <th>FR</th>\n",
       "      <th>FS</th>\n",
       "      <th>GB</th>\n",
       "      <th>GE</th>\n",
       "      <th>GF</th>\n",
       "      <th>GH</th>\n",
       "      <th>GI</th>\n",
       "      <th>GL</th>\n",
       "      <th>Class</th>\n",
       "    </tr>\n",
       "    <tr>\n",
       "      <th>Id</th>\n",
       "      <th></th>\n",
       "      <th></th>\n",
       "      <th></th>\n",
       "      <th></th>\n",
       "      <th></th>\n",
       "      <th></th>\n",
       "      <th></th>\n",
       "      <th></th>\n",
       "      <th></th>\n",
       "      <th></th>\n",
       "      <th></th>\n",
       "      <th></th>\n",
       "      <th></th>\n",
       "      <th></th>\n",
       "      <th></th>\n",
       "      <th></th>\n",
       "      <th></th>\n",
       "      <th></th>\n",
       "      <th></th>\n",
       "      <th></th>\n",
       "      <th></th>\n",
       "    </tr>\n",
       "  </thead>\n",
       "  <tbody>\n",
       "    <tr>\n",
       "      <th>000ff2bfdfe9</th>\n",
       "      <td>0.209377</td>\n",
       "      <td>3109.03329</td>\n",
       "      <td>85.200147</td>\n",
       "      <td>22.394407</td>\n",
       "      <td>8.138688</td>\n",
       "      <td>0.699861</td>\n",
       "      <td>0.025578</td>\n",
       "      <td>9.812214</td>\n",
       "      <td>5.555634</td>\n",
       "      <td>4126.58731</td>\n",
       "      <td>...</td>\n",
       "      <td>7.298162</td>\n",
       "      <td>1.73855</td>\n",
       "      <td>0.094822</td>\n",
       "      <td>11.339138</td>\n",
       "      <td>72.611063</td>\n",
       "      <td>2003.810319</td>\n",
       "      <td>22.136229</td>\n",
       "      <td>69.834944</td>\n",
       "      <td>0.120343</td>\n",
       "      <td>1</td>\n",
       "    </tr>\n",
       "    <tr>\n",
       "      <th>007255e47698</th>\n",
       "      <td>0.145282</td>\n",
       "      <td>978.76416</td>\n",
       "      <td>85.200147</td>\n",
       "      <td>36.968889</td>\n",
       "      <td>8.138688</td>\n",
       "      <td>3.632190</td>\n",
       "      <td>0.025578</td>\n",
       "      <td>13.517790</td>\n",
       "      <td>1.229900</td>\n",
       "      <td>5496.92824</td>\n",
       "      <td>...</td>\n",
       "      <td>0.173229</td>\n",
       "      <td>0.49706</td>\n",
       "      <td>0.568932</td>\n",
       "      <td>9.292698</td>\n",
       "      <td>72.611063</td>\n",
       "      <td>27981.562750</td>\n",
       "      <td>29.135430</td>\n",
       "      <td>32.131996</td>\n",
       "      <td>21.978000</td>\n",
       "      <td>0</td>\n",
       "    </tr>\n",
       "    <tr>\n",
       "      <th>013f2bd269f5</th>\n",
       "      <td>0.470030</td>\n",
       "      <td>2635.10654</td>\n",
       "      <td>85.200147</td>\n",
       "      <td>32.360553</td>\n",
       "      <td>8.138688</td>\n",
       "      <td>6.732840</td>\n",
       "      <td>0.025578</td>\n",
       "      <td>12.824570</td>\n",
       "      <td>1.229900</td>\n",
       "      <td>5135.78024</td>\n",
       "      <td>...</td>\n",
       "      <td>7.709560</td>\n",
       "      <td>0.97556</td>\n",
       "      <td>1.198821</td>\n",
       "      <td>37.077772</td>\n",
       "      <td>88.609437</td>\n",
       "      <td>13676.957810</td>\n",
       "      <td>28.022851</td>\n",
       "      <td>35.192676</td>\n",
       "      <td>0.196941</td>\n",
       "      <td>0</td>\n",
       "    </tr>\n",
       "    <tr>\n",
       "      <th>043ac50845d5</th>\n",
       "      <td>0.252107</td>\n",
       "      <td>3819.65177</td>\n",
       "      <td>120.201618</td>\n",
       "      <td>77.112203</td>\n",
       "      <td>8.138688</td>\n",
       "      <td>3.685344</td>\n",
       "      <td>0.025578</td>\n",
       "      <td>11.053708</td>\n",
       "      <td>1.229900</td>\n",
       "      <td>4169.67738</td>\n",
       "      <td>...</td>\n",
       "      <td>6.122162</td>\n",
       "      <td>0.49706</td>\n",
       "      <td>0.284466</td>\n",
       "      <td>18.529584</td>\n",
       "      <td>82.416803</td>\n",
       "      <td>2094.262452</td>\n",
       "      <td>39.948656</td>\n",
       "      <td>90.493248</td>\n",
       "      <td>0.155829</td>\n",
       "      <td>0</td>\n",
       "    </tr>\n",
       "    <tr>\n",
       "      <th>044fb8a146ec</th>\n",
       "      <td>0.380297</td>\n",
       "      <td>3733.04844</td>\n",
       "      <td>85.200147</td>\n",
       "      <td>14.103738</td>\n",
       "      <td>8.138688</td>\n",
       "      <td>3.942255</td>\n",
       "      <td>0.054810</td>\n",
       "      <td>3.396778</td>\n",
       "      <td>102.151980</td>\n",
       "      <td>5728.73412</td>\n",
       "      <td>...</td>\n",
       "      <td>8.153058</td>\n",
       "      <td>48.50134</td>\n",
       "      <td>0.121914</td>\n",
       "      <td>16.408728</td>\n",
       "      <td>146.109943</td>\n",
       "      <td>8524.370502</td>\n",
       "      <td>45.381316</td>\n",
       "      <td>36.262628</td>\n",
       "      <td>0.096614</td>\n",
       "      <td>1</td>\n",
       "    </tr>\n",
       "    <tr>\n",
       "      <th>04517a3c90bd</th>\n",
       "      <td>0.209377</td>\n",
       "      <td>2615.81430</td>\n",
       "      <td>85.200147</td>\n",
       "      <td>8.541526</td>\n",
       "      <td>8.138688</td>\n",
       "      <td>4.013127</td>\n",
       "      <td>0.025578</td>\n",
       "      <td>12.547282</td>\n",
       "      <td>1.229900</td>\n",
       "      <td>5237.54088</td>\n",
       "      <td>...</td>\n",
       "      <td>0.173229</td>\n",
       "      <td>0.49706</td>\n",
       "      <td>1.164956</td>\n",
       "      <td>21.915512</td>\n",
       "      <td>72.611063</td>\n",
       "      <td>24177.595550</td>\n",
       "      <td>28.525186</td>\n",
       "      <td>82.527764</td>\n",
       "      <td>21.978000</td>\n",
       "      <td>0</td>\n",
       "    </tr>\n",
       "    <tr>\n",
       "      <th>049232ca8356</th>\n",
       "      <td>0.348249</td>\n",
       "      <td>1733.65412</td>\n",
       "      <td>85.200147</td>\n",
       "      <td>8.377385</td>\n",
       "      <td>15.312480</td>\n",
       "      <td>1.913544</td>\n",
       "      <td>0.025578</td>\n",
       "      <td>6.547778</td>\n",
       "      <td>1.229900</td>\n",
       "      <td>5710.46099</td>\n",
       "      <td>...</td>\n",
       "      <td>4.408484</td>\n",
       "      <td>0.86130</td>\n",
       "      <td>0.467337</td>\n",
       "      <td>17.878444</td>\n",
       "      <td>192.453107</td>\n",
       "      <td>3332.467494</td>\n",
       "      <td>34.166222</td>\n",
       "      <td>100.086808</td>\n",
       "      <td>0.065096</td>\n",
       "      <td>0</td>\n",
       "    </tr>\n",
       "    <tr>\n",
       "      <th>057287f2da6d</th>\n",
       "      <td>0.269199</td>\n",
       "      <td>966.45483</td>\n",
       "      <td>85.200147</td>\n",
       "      <td>21.174189</td>\n",
       "      <td>8.138688</td>\n",
       "      <td>4.987617</td>\n",
       "      <td>0.025578</td>\n",
       "      <td>9.408886</td>\n",
       "      <td>1.229900</td>\n",
       "      <td>5040.77914</td>\n",
       "      <td>...</td>\n",
       "      <td>6.591896</td>\n",
       "      <td>0.49706</td>\n",
       "      <td>0.277693</td>\n",
       "      <td>18.445866</td>\n",
       "      <td>109.693986</td>\n",
       "      <td>21371.759850</td>\n",
       "      <td>35.208102</td>\n",
       "      <td>31.424696</td>\n",
       "      <td>0.092873</td>\n",
       "      <td>0</td>\n",
       "    </tr>\n",
       "    <tr>\n",
       "      <th>0594b00fb30a</th>\n",
       "      <td>0.346113</td>\n",
       "      <td>3238.43674</td>\n",
       "      <td>85.200147</td>\n",
       "      <td>28.888816</td>\n",
       "      <td>8.138688</td>\n",
       "      <td>4.021986</td>\n",
       "      <td>0.025578</td>\n",
       "      <td>8.243016</td>\n",
       "      <td>3.626448</td>\n",
       "      <td>6569.37001</td>\n",
       "      <td>...</td>\n",
       "      <td>4.762291</td>\n",
       "      <td>1.18262</td>\n",
       "      <td>0.067730</td>\n",
       "      <td>17.245908</td>\n",
       "      <td>147.218610</td>\n",
       "      <td>4589.611956</td>\n",
       "      <td>29.771721</td>\n",
       "      <td>54.675576</td>\n",
       "      <td>0.073416</td>\n",
       "      <td>0</td>\n",
       "    </tr>\n",
       "    <tr>\n",
       "      <th>05f2bc0155cd</th>\n",
       "      <td>0.324748</td>\n",
       "      <td>5188.68207</td>\n",
       "      <td>85.200147</td>\n",
       "      <td>12.968687</td>\n",
       "      <td>8.138688</td>\n",
       "      <td>4.593392</td>\n",
       "      <td>0.025578</td>\n",
       "      <td>10.685041</td>\n",
       "      <td>1.229900</td>\n",
       "      <td>4951.69863</td>\n",
       "      <td>...</td>\n",
       "      <td>0.173229</td>\n",
       "      <td>1.57151</td>\n",
       "      <td>0.318331</td>\n",
       "      <td>24.515421</td>\n",
       "      <td>98.929757</td>\n",
       "      <td>5563.130949</td>\n",
       "      <td>21.994831</td>\n",
       "      <td>33.300970</td>\n",
       "      <td>21.978000</td>\n",
       "      <td>0</td>\n",
       "    </tr>\n",
       "  </tbody>\n",
       "</table>\n",
       "<p>10 rows × 57 columns</p>\n",
       "</div>"
      ],
      "text/plain": [
       "                    AB          AF          AH         AM         AR  \\\n",
       "Id                                                                     \n",
       "000ff2bfdfe9  0.209377  3109.03329   85.200147  22.394407   8.138688   \n",
       "007255e47698  0.145282   978.76416   85.200147  36.968889   8.138688   \n",
       "013f2bd269f5  0.470030  2635.10654   85.200147  32.360553   8.138688   \n",
       "043ac50845d5  0.252107  3819.65177  120.201618  77.112203   8.138688   \n",
       "044fb8a146ec  0.380297  3733.04844   85.200147  14.103738   8.138688   \n",
       "04517a3c90bd  0.209377  2615.81430   85.200147   8.541526   8.138688   \n",
       "049232ca8356  0.348249  1733.65412   85.200147   8.377385  15.312480   \n",
       "057287f2da6d  0.269199   966.45483   85.200147  21.174189   8.138688   \n",
       "0594b00fb30a  0.346113  3238.43674   85.200147  28.888816   8.138688   \n",
       "05f2bc0155cd  0.324748  5188.68207   85.200147  12.968687   8.138688   \n",
       "\n",
       "                    AX        AY         AZ          BC         BD   ...  \\\n",
       "Id                                                                   ...   \n",
       "000ff2bfdfe9  0.699861  0.025578   9.812214    5.555634  4126.58731  ...   \n",
       "007255e47698  3.632190  0.025578  13.517790    1.229900  5496.92824  ...   \n",
       "013f2bd269f5  6.732840  0.025578  12.824570    1.229900  5135.78024  ...   \n",
       "043ac50845d5  3.685344  0.025578  11.053708    1.229900  4169.67738  ...   \n",
       "044fb8a146ec  3.942255  0.054810   3.396778  102.151980  5728.73412  ...   \n",
       "04517a3c90bd  4.013127  0.025578  12.547282    1.229900  5237.54088  ...   \n",
       "049232ca8356  1.913544  0.025578   6.547778    1.229900  5710.46099  ...   \n",
       "057287f2da6d  4.987617  0.025578   9.408886    1.229900  5040.77914  ...   \n",
       "0594b00fb30a  4.021986  0.025578   8.243016    3.626448  6569.37001  ...   \n",
       "05f2bc0155cd  4.593392  0.025578  10.685041    1.229900  4951.69863  ...   \n",
       "\n",
       "                    FL        FR        FS         GB          GE  \\\n",
       "Id                                                                  \n",
       "000ff2bfdfe9  7.298162   1.73855  0.094822  11.339138   72.611063   \n",
       "007255e47698  0.173229   0.49706  0.568932   9.292698   72.611063   \n",
       "013f2bd269f5  7.709560   0.97556  1.198821  37.077772   88.609437   \n",
       "043ac50845d5  6.122162   0.49706  0.284466  18.529584   82.416803   \n",
       "044fb8a146ec  8.153058  48.50134  0.121914  16.408728  146.109943   \n",
       "04517a3c90bd  0.173229   0.49706  1.164956  21.915512   72.611063   \n",
       "049232ca8356  4.408484   0.86130  0.467337  17.878444  192.453107   \n",
       "057287f2da6d  6.591896   0.49706  0.277693  18.445866  109.693986   \n",
       "0594b00fb30a  4.762291   1.18262  0.067730  17.245908  147.218610   \n",
       "05f2bc0155cd  0.173229   1.57151  0.318331  24.515421   98.929757   \n",
       "\n",
       "                        GF         GH          GI         GL  Class  \n",
       "Id                                                                   \n",
       "000ff2bfdfe9   2003.810319  22.136229   69.834944   0.120343      1  \n",
       "007255e47698  27981.562750  29.135430   32.131996  21.978000      0  \n",
       "013f2bd269f5  13676.957810  28.022851   35.192676   0.196941      0  \n",
       "043ac50845d5   2094.262452  39.948656   90.493248   0.155829      0  \n",
       "044fb8a146ec   8524.370502  45.381316   36.262628   0.096614      1  \n",
       "04517a3c90bd  24177.595550  28.525186   82.527764  21.978000      0  \n",
       "049232ca8356   3332.467494  34.166222  100.086808   0.065096      0  \n",
       "057287f2da6d  21371.759850  35.208102   31.424696   0.092873      0  \n",
       "0594b00fb30a   4589.611956  29.771721   54.675576   0.073416      0  \n",
       "05f2bc0155cd   5563.130949  21.994831   33.300970  21.978000      0  \n",
       "\n",
       "[10 rows x 57 columns]"
      ]
     },
     "execution_count": 4,
     "metadata": {},
     "output_type": "execute_result"
    }
   ],
   "source": [
    "train.head(n = 10)"
   ]
  },
  {
   "cell_type": "code",
   "execution_count": 5,
   "id": "a6e7f372",
   "metadata": {
    "execution": {
     "iopub.execute_input": "2023-06-30T01:54:15.348213Z",
     "iopub.status.busy": "2023-06-30T01:54:15.347819Z",
     "iopub.status.idle": "2023-06-30T01:54:15.360814Z",
     "shell.execute_reply": "2023-06-30T01:54:15.359822Z"
    },
    "papermill": {
     "duration": 0.022437,
     "end_time": "2023-06-30T01:54:15.362750",
     "exception": false,
     "start_time": "2023-06-30T01:54:15.340313",
     "status": "completed"
    },
    "tags": []
   },
   "outputs": [
    {
     "data": {
      "text/html": [
       "<div>\n",
       "<style scoped>\n",
       "    .dataframe tbody tr th:only-of-type {\n",
       "        vertical-align: middle;\n",
       "    }\n",
       "\n",
       "    .dataframe tbody tr th {\n",
       "        vertical-align: top;\n",
       "    }\n",
       "\n",
       "    .dataframe thead th {\n",
       "        text-align: right;\n",
       "    }\n",
       "</style>\n",
       "<table border=\"1\" class=\"dataframe\">\n",
       "  <thead>\n",
       "    <tr style=\"text-align: right;\">\n",
       "      <th></th>\n",
       "      <th>Alpha</th>\n",
       "      <th>Beta</th>\n",
       "      <th>Gamma</th>\n",
       "      <th>Delta</th>\n",
       "      <th>Epsilon</th>\n",
       "    </tr>\n",
       "    <tr>\n",
       "      <th>Id</th>\n",
       "      <th></th>\n",
       "      <th></th>\n",
       "      <th></th>\n",
       "      <th></th>\n",
       "      <th></th>\n",
       "    </tr>\n",
       "  </thead>\n",
       "  <tbody>\n",
       "    <tr>\n",
       "      <th>000ff2bfdfe9</th>\n",
       "      <td>B</td>\n",
       "      <td>C</td>\n",
       "      <td>G</td>\n",
       "      <td>D</td>\n",
       "      <td>3/19/2019</td>\n",
       "    </tr>\n",
       "    <tr>\n",
       "      <th>007255e47698</th>\n",
       "      <td>A</td>\n",
       "      <td>C</td>\n",
       "      <td>M</td>\n",
       "      <td>B</td>\n",
       "      <td>Unknown</td>\n",
       "    </tr>\n",
       "    <tr>\n",
       "      <th>013f2bd269f5</th>\n",
       "      <td>A</td>\n",
       "      <td>C</td>\n",
       "      <td>M</td>\n",
       "      <td>B</td>\n",
       "      <td>Unknown</td>\n",
       "    </tr>\n",
       "    <tr>\n",
       "      <th>043ac50845d5</th>\n",
       "      <td>A</td>\n",
       "      <td>C</td>\n",
       "      <td>M</td>\n",
       "      <td>B</td>\n",
       "      <td>Unknown</td>\n",
       "    </tr>\n",
       "    <tr>\n",
       "      <th>044fb8a146ec</th>\n",
       "      <td>D</td>\n",
       "      <td>B</td>\n",
       "      <td>F</td>\n",
       "      <td>B</td>\n",
       "      <td>3/25/2020</td>\n",
       "    </tr>\n",
       "    <tr>\n",
       "      <th>04517a3c90bd</th>\n",
       "      <td>A</td>\n",
       "      <td>C</td>\n",
       "      <td>M</td>\n",
       "      <td>B</td>\n",
       "      <td>10/1/2019</td>\n",
       "    </tr>\n",
       "    <tr>\n",
       "      <th>049232ca8356</th>\n",
       "      <td>A</td>\n",
       "      <td>C</td>\n",
       "      <td>M</td>\n",
       "      <td>B</td>\n",
       "      <td>5/29/2019</td>\n",
       "    </tr>\n",
       "    <tr>\n",
       "      <th>057287f2da6d</th>\n",
       "      <td>A</td>\n",
       "      <td>C</td>\n",
       "      <td>M</td>\n",
       "      <td>B</td>\n",
       "      <td>4/24/2019</td>\n",
       "    </tr>\n",
       "    <tr>\n",
       "      <th>0594b00fb30a</th>\n",
       "      <td>A</td>\n",
       "      <td>C</td>\n",
       "      <td>M</td>\n",
       "      <td>B</td>\n",
       "      <td>2/18/2019</td>\n",
       "    </tr>\n",
       "    <tr>\n",
       "      <th>05f2bc0155cd</th>\n",
       "      <td>A</td>\n",
       "      <td>B</td>\n",
       "      <td>M</td>\n",
       "      <td>B</td>\n",
       "      <td>6/19/2020</td>\n",
       "    </tr>\n",
       "  </tbody>\n",
       "</table>\n",
       "</div>"
      ],
      "text/plain": [
       "             Alpha Beta Gamma Delta    Epsilon\n",
       "Id                                            \n",
       "000ff2bfdfe9     B    C     G     D  3/19/2019\n",
       "007255e47698     A    C     M     B    Unknown\n",
       "013f2bd269f5     A    C     M     B    Unknown\n",
       "043ac50845d5     A    C     M     B    Unknown\n",
       "044fb8a146ec     D    B     F     B  3/25/2020\n",
       "04517a3c90bd     A    C     M     B  10/1/2019\n",
       "049232ca8356     A    C     M     B  5/29/2019\n",
       "057287f2da6d     A    C     M     B  4/24/2019\n",
       "0594b00fb30a     A    C     M     B  2/18/2019\n",
       "05f2bc0155cd     A    B     M     B  6/19/2020"
      ]
     },
     "execution_count": 5,
     "metadata": {},
     "output_type": "execute_result"
    }
   ],
   "source": [
    "greeks.head(n = 10)"
   ]
  },
  {
   "cell_type": "markdown",
   "id": "9cfe28a7",
   "metadata": {
    "papermill": {
     "duration": 0.005988,
     "end_time": "2023-06-30T01:54:15.375180",
     "exception": false,
     "start_time": "2023-06-30T01:54:15.369192",
     "status": "completed"
    },
    "tags": []
   },
   "source": [
    "### Preprocessing"
   ]
  },
  {
   "cell_type": "markdown",
   "id": "f8cb9a7f",
   "metadata": {
    "papermill": {
     "duration": 0.006348,
     "end_time": "2023-06-30T01:54:15.388848",
     "exception": false,
     "start_time": "2023-06-30T01:54:15.382500",
     "status": "completed"
    },
    "tags": []
   },
   "source": [
    "Merge greeks with train and test datasets:"
   ]
  },
  {
   "cell_type": "code",
   "execution_count": 6,
   "id": "5d80945c",
   "metadata": {
    "execution": {
     "iopub.execute_input": "2023-06-30T01:54:15.404108Z",
     "iopub.status.busy": "2023-06-30T01:54:15.403685Z",
     "iopub.status.idle": "2023-06-30T01:54:15.425430Z",
     "shell.execute_reply": "2023-06-30T01:54:15.424231Z"
    },
    "papermill": {
     "duration": 0.032332,
     "end_time": "2023-06-30T01:54:15.427932",
     "exception": false,
     "start_time": "2023-06-30T01:54:15.395600",
     "status": "completed"
    },
    "tags": []
   },
   "outputs": [
    {
     "name": "stdout",
     "output_type": "stream",
     "text": [
      "The training + greeks dataset has 617 rows and 61 columns\n",
      "The test + greeks dataset has 5 rows and 61 columns\n"
     ]
    }
   ],
   "source": [
    "train_greeks = train.merge(greeks, how='left', on='Id')\n",
    "test_greeks  = test.merge(greeks, how='left', on='Id')\n",
    "\n",
    "print(f'The training + greeks dataset has {train_greeks.shape[0]} rows and {test_greeks.shape[1]} columns')\n",
    "print(f'The test + greeks dataset has {test_greeks.shape[0]} rows and {test_greeks.shape[1]} columns')"
   ]
  },
  {
   "cell_type": "markdown",
   "id": "1bd9fdc8",
   "metadata": {
    "papermill": {
     "duration": 0.006164,
     "end_time": "2023-06-30T01:54:15.440806",
     "exception": false,
     "start_time": "2023-06-30T01:54:15.434642",
     "status": "completed"
    },
    "tags": []
   },
   "source": [
    "Create holdout set to estimate out of sample performance:"
   ]
  },
  {
   "cell_type": "code",
   "execution_count": 7,
   "id": "37789dc4",
   "metadata": {
    "execution": {
     "iopub.execute_input": "2023-06-30T01:54:15.455904Z",
     "iopub.status.busy": "2023-06-30T01:54:15.455497Z",
     "iopub.status.idle": "2023-06-30T01:54:15.463852Z",
     "shell.execute_reply": "2023-06-30T01:54:15.462291Z"
    },
    "papermill": {
     "duration": 0.019419,
     "end_time": "2023-06-30T01:54:15.466767",
     "exception": false,
     "start_time": "2023-06-30T01:54:15.447348",
     "status": "completed"
    },
    "tags": []
   },
   "outputs": [],
   "source": [
    "train_split, holdout_split = train_test_split(train, test_size = 0.20, random_state = 55)"
   ]
  },
  {
   "cell_type": "markdown",
   "id": "f8593aaf",
   "metadata": {
    "papermill": {
     "duration": 0.006324,
     "end_time": "2023-06-30T01:54:15.479964",
     "exception": false,
     "start_time": "2023-06-30T01:54:15.473640",
     "status": "completed"
    },
    "tags": []
   },
   "source": [
    "Separate inputs and labels:"
   ]
  },
  {
   "cell_type": "code",
   "execution_count": 8,
   "id": "a9a0b25c",
   "metadata": {
    "execution": {
     "iopub.execute_input": "2023-06-30T01:54:15.495446Z",
     "iopub.status.busy": "2023-06-30T01:54:15.494927Z",
     "iopub.status.idle": "2023-06-30T01:54:15.503414Z",
     "shell.execute_reply": "2023-06-30T01:54:15.501607Z"
    },
    "papermill": {
     "duration": 0.019144,
     "end_time": "2023-06-30T01:54:15.505652",
     "exception": false,
     "start_time": "2023-06-30T01:54:15.486508",
     "status": "completed"
    },
    "tags": []
   },
   "outputs": [],
   "source": [
    "train_inputs = train_split.drop(columns=['Class'])\n",
    "train_labels = train_split.Class\n",
    "\n",
    "holdout_inputs = holdout_split.drop(columns=['Class'])\n",
    "holdout_labels = holdout_split.Class\n",
    "\n",
    "test_inputs = test"
   ]
  },
  {
   "cell_type": "markdown",
   "id": "7235a3c2",
   "metadata": {
    "papermill": {
     "duration": 0.005837,
     "end_time": "2023-06-30T01:54:15.518415",
     "exception": false,
     "start_time": "2023-06-30T01:54:15.512578",
     "status": "completed"
    },
    "tags": []
   },
   "source": [
    "Define and apply preprocessor:"
   ]
  },
  {
   "cell_type": "code",
   "execution_count": 9,
   "id": "d94ff86e",
   "metadata": {
    "execution": {
     "iopub.execute_input": "2023-06-30T01:54:15.533275Z",
     "iopub.status.busy": "2023-06-30T01:54:15.532804Z",
     "iopub.status.idle": "2023-06-30T01:54:15.539376Z",
     "shell.execute_reply": "2023-06-30T01:54:15.537512Z"
    },
    "papermill": {
     "duration": 0.017291,
     "end_time": "2023-06-30T01:54:15.541939",
     "exception": false,
     "start_time": "2023-06-30T01:54:15.524648",
     "status": "completed"
    },
    "tags": []
   },
   "outputs": [],
   "source": [
    "numeric_var     = train_inputs.select_dtypes(include=['float64', 'int64']).columns\n",
    "categorical_var = train_inputs.select_dtypes(include=['object']).columns"
   ]
  },
  {
   "cell_type": "code",
   "execution_count": 10,
   "id": "06a06f2e",
   "metadata": {
    "execution": {
     "iopub.execute_input": "2023-06-30T01:54:15.557531Z",
     "iopub.status.busy": "2023-06-30T01:54:15.556862Z",
     "iopub.status.idle": "2023-06-30T01:54:15.562305Z",
     "shell.execute_reply": "2023-06-30T01:54:15.561522Z"
    },
    "papermill": {
     "duration": 0.016362,
     "end_time": "2023-06-30T01:54:15.565138",
     "exception": false,
     "start_time": "2023-06-30T01:54:15.548776",
     "status": "completed"
    },
    "tags": []
   },
   "outputs": [],
   "source": [
    "numeric_transformer = Pipeline(steps=[\n",
    "    ('imputer', SimpleImputer(strategy='mean')),\n",
    "    ('scaler', StandardScaler())\n",
    "])\n",
    "\n",
    "categorical_transformer = Pipeline(steps=[\n",
    "    ('imputer', SimpleImputer(strategy='most_frequent')),\n",
    "    ('encoder', OneHotEncoder(sparse_output=False, handle_unknown='ignore'))\n",
    "])\n",
    "\n",
    "preprocessor = ColumnTransformer(\n",
    "    transformers=[\n",
    "        ('num', numeric_transformer, numeric_var),\n",
    "        ('cat', categorical_transformer, categorical_var)\n",
    "    ])"
   ]
  },
  {
   "cell_type": "code",
   "execution_count": 11,
   "id": "b48ab363",
   "metadata": {
    "execution": {
     "iopub.execute_input": "2023-06-30T01:54:15.580307Z",
     "iopub.status.busy": "2023-06-30T01:54:15.579811Z",
     "iopub.status.idle": "2023-06-30T01:54:15.624028Z",
     "shell.execute_reply": "2023-06-30T01:54:15.623162Z"
    },
    "papermill": {
     "duration": 0.054421,
     "end_time": "2023-06-30T01:54:15.626325",
     "exception": false,
     "start_time": "2023-06-30T01:54:15.571904",
     "status": "completed"
    },
    "tags": []
   },
   "outputs": [],
   "source": [
    "## fit on training data\n",
    "preprocessor.fit(train_inputs)\n",
    "\n",
    "## transform\n",
    "temp_train_inputs_processed   = preprocessor.transform(train_inputs)\n",
    "temp_holdout_inputs_processed = preprocessor.transform(holdout_inputs)\n",
    "temp_test_inputs_processed    = preprocessor.transform(test_inputs)\n",
    "\n",
    "## convert back to DataFrame\n",
    "train_inputs_processed   = pd.DataFrame(temp_train_inputs_processed, index = train_inputs.index, columns = preprocessor.get_feature_names_out())\n",
    "holdout_inputs_processed = pd.DataFrame(temp_holdout_inputs_processed, index = holdout_inputs.index, columns = preprocessor.get_feature_names_out())\n",
    "test_inputs_processed    = pd.DataFrame(temp_test_inputs_processed, index = test_inputs.index, columns = preprocessor.get_feature_names_out())\n",
    "\n",
    "## concatenate labels\n",
    "train_final   = train_inputs_processed.assign(Class = train_labels)\n",
    "holdout_final = holdout_inputs_processed.assign(Class = holdout_labels)\n",
    "test_final    = test_inputs_processed"
   ]
  },
  {
   "cell_type": "markdown",
   "id": "67f769e8",
   "metadata": {
    "papermill": {
     "duration": 0.006162,
     "end_time": "2023-06-30T01:54:15.639268",
     "exception": false,
     "start_time": "2023-06-30T01:54:15.633106",
     "status": "completed"
    },
    "tags": []
   },
   "source": [
    "### Modeling"
   ]
  },
  {
   "cell_type": "markdown",
   "id": "85d9f12d",
   "metadata": {
    "papermill": {
     "duration": 0.00619,
     "end_time": "2023-06-30T01:54:15.652104",
     "exception": false,
     "start_time": "2023-06-30T01:54:15.645914",
     "status": "completed"
    },
    "tags": []
   },
   "source": [
    "Class Weighting:"
   ]
  },
  {
   "cell_type": "code",
   "execution_count": 12,
   "id": "4e83ac11",
   "metadata": {
    "execution": {
     "iopub.execute_input": "2023-06-30T01:54:15.668122Z",
     "iopub.status.busy": "2023-06-30T01:54:15.667415Z",
     "iopub.status.idle": "2023-06-30T01:54:15.673194Z",
     "shell.execute_reply": "2023-06-30T01:54:15.672517Z"
    },
    "papermill": {
     "duration": 0.016784,
     "end_time": "2023-06-30T01:54:15.675597",
     "exception": false,
     "start_time": "2023-06-30T01:54:15.658813",
     "status": "completed"
    },
    "tags": []
   },
   "outputs": [
    {
     "name": "stdout",
     "output_type": "stream",
     "text": [
      "Weight for class 0: 0.60\n",
      "Weight for class 1: 2.90\n"
     ]
    }
   ],
   "source": [
    "# Calculate the number of samples for each label.\n",
    "neg, pos = np.bincount(train_labels)\n",
    "\n",
    "# Calculate total samples.\n",
    "total = neg + pos\n",
    "\n",
    "# Calculate the weight for each label.\n",
    "weight_for_0 = (1 / neg) * (total / 2.0)\n",
    "weight_for_1 = (1 / pos) * (total / 2.0)\n",
    "\n",
    "class_weight = {0: weight_for_0, 1: weight_for_1}\n",
    "\n",
    "print('Weight for class 0: {:.2f}'.format(weight_for_0))\n",
    "print('Weight for class 1: {:.2f}'.format(weight_for_1))"
   ]
  },
  {
   "cell_type": "markdown",
   "id": "777fecf1",
   "metadata": {
    "papermill": {
     "duration": 0.006355,
     "end_time": "2023-06-30T01:54:15.688630",
     "exception": false,
     "start_time": "2023-06-30T01:54:15.682275",
     "status": "completed"
    },
    "tags": []
   },
   "source": [
    "Fit and evaluate model using 5-Fold CV:"
   ]
  },
  {
   "cell_type": "code",
   "execution_count": 13,
   "id": "ca4b2ed8",
   "metadata": {
    "execution": {
     "iopub.execute_input": "2023-06-30T01:54:15.704556Z",
     "iopub.status.busy": "2023-06-30T01:54:15.703760Z",
     "iopub.status.idle": "2023-06-30T01:54:33.002159Z",
     "shell.execute_reply": "2023-06-30T01:54:33.000534Z"
    },
    "papermill": {
     "duration": 17.309062,
     "end_time": "2023-06-30T01:54:33.004471",
     "exception": false,
     "start_time": "2023-06-30T01:54:15.695409",
     "status": "completed"
    },
    "tags": []
   },
   "outputs": [
    {
     "name": "stdout",
     "output_type": "stream",
     "text": [
      "### Fold 1\n",
      "Warning: Some of the feature names have been changed automatically to be compatible with SavedModels because fix_feature_names=True.\n",
      "Warning: Some of the feature names have been changed automatically to be compatible with SavedModels because fix_feature_names=True.\n",
      "Use /tmp/tmpldnkffvb as temporary training directory\n",
      "Reading training dataset...\n",
      "Training dataset read in 0:00:06.249367. Found 394 examples.\n",
      "Training model...\n",
      "Model trained in 0:00:00.182822\n",
      "Compiling model...\n"
     ]
    },
    {
     "name": "stderr",
     "output_type": "stream",
     "text": [
      "[INFO 23-06-30 01:54:22.4110 UTC kernel.cc:1242] Loading model from path /tmp/tmpldnkffvb/model/ with prefix cf0b782a52604f34\n",
      "[INFO 23-06-30 01:54:22.4340 UTC decision_forest.cc:660] Model loaded with 300 root(s), 10910 node(s), and 57 input feature(s).\n",
      "[INFO 23-06-30 01:54:22.4341 UTC abstract_model.cc:1311] Engine \"RandomForestOptPred\" built\n",
      "[INFO 23-06-30 01:54:22.4342 UTC kernel.cc:1074] Use fast generic engine\n"
     ]
    },
    {
     "name": "stdout",
     "output_type": "stream",
     "text": [
      "WARNING: AutoGraph could not transform <function simple_ml_inference_op_with_handle at 0x7b6bc5321fc0> and will run it as-is.\n",
      "Please report this to the TensorFlow team. When filing the bug, set the verbosity to 10 (on Linux, `export AUTOGRAPH_VERBOSITY=10`) and attach the full output.\n",
      "Cause: could not get source code\n",
      "To silence this warning, decorate the function with @tf.autograph.experimental.do_not_convert\n",
      "Model compiled.\n",
      "1/1 [==============================] - 1s 604ms/step - loss: 0.0000e+00 - accuracy: 0.8586 - binary_crossentropy: 0.2932\n",
      "### Fold 2\n",
      "Warning: Some of the feature names have been changed automatically to be compatible with SavedModels because fix_feature_names=True.\n",
      "Warning: Some of the feature names have been changed automatically to be compatible with SavedModels because fix_feature_names=True.\n",
      "Use /tmp/tmpbq3w3344 as temporary training directory\n",
      "Reading training dataset...\n",
      "Training dataset read in 0:00:00.860454. Found 394 examples.\n",
      "Training model...\n",
      "Model trained in 0:00:00.175430\n",
      "Compiling model...\n"
     ]
    },
    {
     "name": "stderr",
     "output_type": "stream",
     "text": [
      "[INFO 23-06-30 01:54:26.7223 UTC kernel.cc:1242] Loading model from path /tmp/tmpbq3w3344/model/ with prefix c0002e32b10345f2\n",
      "[INFO 23-06-30 01:54:26.7437 UTC decision_forest.cc:660] Model loaded with 300 root(s), 11616 node(s), and 57 input feature(s).\n",
      "[INFO 23-06-30 01:54:26.7437 UTC kernel.cc:1074] Use fast generic engine\n"
     ]
    },
    {
     "name": "stdout",
     "output_type": "stream",
     "text": [
      "Model compiled.\n",
      "1/1 [==============================] - 0s 294ms/step - loss: 0.0000e+00 - accuracy: 0.9798 - binary_crossentropy: 0.2312\n",
      "### Fold 3\n",
      "Warning: Some of the feature names have been changed automatically to be compatible with SavedModels because fix_feature_names=True.\n",
      "Warning: Some of the feature names have been changed automatically to be compatible with SavedModels because fix_feature_names=True.\n",
      "Use /tmp/tmp2rgwhmui as temporary training directory\n",
      "Reading training dataset...\n",
      "Training dataset read in 0:00:00.805510. Found 394 examples.\n",
      "Training model...\n",
      "Model trained in 0:00:00.134958\n",
      "Compiling model...\n"
     ]
    },
    {
     "name": "stderr",
     "output_type": "stream",
     "text": [
      "[INFO 23-06-30 01:54:28.5633 UTC kernel.cc:1242] Loading model from path /tmp/tmp2rgwhmui/model/ with prefix b5b646bd08744ef8\n",
      "[INFO 23-06-30 01:54:28.5826 UTC decision_forest.cc:660] Model loaded with 300 root(s), 11296 node(s), and 57 input feature(s).\n",
      "[INFO 23-06-30 01:54:28.5827 UTC kernel.cc:1074] Use fast generic engine\n"
     ]
    },
    {
     "name": "stdout",
     "output_type": "stream",
     "text": [
      "Model compiled.\n",
      "1/1 [==============================] - 0s 303ms/step - loss: 0.0000e+00 - accuracy: 0.8990 - binary_crossentropy: 0.2963\n",
      "### Fold 4\n",
      "Warning: Some of the feature names have been changed automatically to be compatible with SavedModels because fix_feature_names=True.\n",
      "Warning: Some of the feature names have been changed automatically to be compatible with SavedModels because fix_feature_names=True.\n",
      "Use /tmp/tmpnusowtp2 as temporary training directory\n",
      "Reading training dataset...\n",
      "Training dataset read in 0:00:00.784484. Found 395 examples.\n",
      "Training model...\n",
      "Model trained in 0:00:00.141790\n",
      "Compiling model...\n"
     ]
    },
    {
     "name": "stderr",
     "output_type": "stream",
     "text": [
      "[INFO 23-06-30 01:54:30.4171 UTC kernel.cc:1242] Loading model from path /tmp/tmpnusowtp2/model/ with prefix 9d381cc42ddc469d\n",
      "[INFO 23-06-30 01:54:30.4366 UTC decision_forest.cc:660] Model loaded with 300 root(s), 11262 node(s), and 57 input feature(s).\n",
      "[INFO 23-06-30 01:54:30.4366 UTC kernel.cc:1074] Use fast generic engine\n"
     ]
    },
    {
     "name": "stdout",
     "output_type": "stream",
     "text": [
      "Model compiled.\n",
      "1/1 [==============================] - 0s 306ms/step - loss: 0.0000e+00 - accuracy: 0.9184 - binary_crossentropy: 0.2501\n",
      "### Fold 5\n",
      "Warning: Some of the feature names have been changed automatically to be compatible with SavedModels because fix_feature_names=True.\n",
      "Warning: Some of the feature names have been changed automatically to be compatible with SavedModels because fix_feature_names=True.\n",
      "Use /tmp/tmpn66inhcn as temporary training directory\n",
      "Reading training dataset...\n",
      "Training dataset read in 0:00:00.796139. Found 395 examples.\n",
      "Training model...\n",
      "Model trained in 0:00:00.136212\n",
      "Compiling model...\n"
     ]
    },
    {
     "name": "stderr",
     "output_type": "stream",
     "text": [
      "[INFO 23-06-30 01:54:32.2709 UTC kernel.cc:1242] Loading model from path /tmp/tmpn66inhcn/model/ with prefix b7ea3a5f90b54c80\n",
      "[INFO 23-06-30 01:54:32.2900 UTC decision_forest.cc:660] Model loaded with 300 root(s), 11604 node(s), and 57 input feature(s).\n",
      "[INFO 23-06-30 01:54:32.2900 UTC kernel.cc:1074] Use fast generic engine\n"
     ]
    },
    {
     "name": "stdout",
     "output_type": "stream",
     "text": [
      "Model compiled.\n",
      "1/1 [==============================] - 0s 280ms/step - loss: 0.0000e+00 - accuracy: 0.9388 - binary_crossentropy: 0.2298\n",
      "[0.8585858345031738, 0.9797979593276978, 0.8989899158477783, 0.918367326259613, 0.9387755393981934]\n",
      "[0.2931727468967438, 0.2312374860048294, 0.2963302731513977, 0.25013789534568787, 0.2298472821712494]\n"
     ]
    }
   ],
   "source": [
    "## initialize kfold object\n",
    "kfold = KFold(n_splits=5)\n",
    "\n",
    "## create empty lists to store outputs\n",
    "accuracy = []\n",
    "cross_entropy = []\n",
    "models = []\n",
    "\n",
    "for i, (train_index, valid_index) in enumerate(kfold.split(train_inputs)):\n",
    "\n",
    "    ## display current iteration\n",
    "    print(f'### Fold {i+1}')\n",
    "    \n",
    "    ## define temporary training and validation sets\n",
    "    train_temp = train_final.iloc[train_index]\n",
    "    valid_temp = train_final.iloc[valid_index]\n",
    "\n",
    "    ## convert to tensorflow dataset\n",
    "    train_tfds = tfdf.keras.pd_dataframe_to_tf_dataset(train_temp, label = 'Class')\n",
    "    valid_tfds = tfdf.keras.pd_dataframe_to_tf_dataset(valid_temp, label = 'Class')\n",
    "\n",
    "    ## initialize model object and define evaluation metrics\n",
    "    rf = tfdf.keras.RandomForestModel()\n",
    "    rf.compile(metrics = ['accuracy', 'binary_crossentropy'])\n",
    "\n",
    "    ## fit and store model\n",
    "    rf.fit(x = train_tfds, class_weight = class_weight)\n",
    "    models.append(rf)\n",
    "\n",
    "    ## make predictions on validation set and log accuracy\n",
    "    evaluation = rf.evaluate(x = valid_tfds, return_dict=True)\n",
    "    accuracy.append(evaluation[\"accuracy\"])\n",
    "    cross_entropy.append(evaluation[\"binary_crossentropy\"])\n",
    "\n",
    "## return metrics across folds\n",
    "print(accuracy)\n",
    "print(cross_entropy)"
   ]
  },
  {
   "cell_type": "markdown",
   "id": "e8618693",
   "metadata": {
    "papermill": {
     "duration": 0.009808,
     "end_time": "2023-06-30T01:54:33.024451",
     "exception": false,
     "start_time": "2023-06-30T01:54:33.014643",
     "status": "completed"
    },
    "tags": []
   },
   "source": [
    "Holdout Set Evaluation:"
   ]
  },
  {
   "cell_type": "markdown",
   "id": "73aa1b67",
   "metadata": {
    "papermill": {
     "duration": 0.009897,
     "end_time": "2023-06-30T01:54:33.044539",
     "exception": false,
     "start_time": "2023-06-30T01:54:33.034642",
     "status": "completed"
    },
    "tags": []
   },
   "source": [
    "### Predictions and Submission File"
   ]
  },
  {
   "cell_type": "code",
   "execution_count": 14,
   "id": "9b5b6902",
   "metadata": {
    "execution": {
     "iopub.execute_input": "2023-06-30T01:54:33.066908Z",
     "iopub.status.busy": "2023-06-30T01:54:33.066471Z",
     "iopub.status.idle": "2023-06-30T01:54:33.230993Z",
     "shell.execute_reply": "2023-06-30T01:54:33.230281Z"
    },
    "papermill": {
     "duration": 0.178745,
     "end_time": "2023-06-30T01:54:33.233493",
     "exception": false,
     "start_time": "2023-06-30T01:54:33.054748",
     "status": "completed"
    },
    "tags": []
   },
   "outputs": [
    {
     "name": "stdout",
     "output_type": "stream",
     "text": [
      "Warning: Some of the feature names have been changed automatically to be compatible with SavedModels because fix_feature_names=True.\n",
      "1/1 [==============================] - 0s 99ms/step\n"
     ]
    }
   ],
   "source": [
    "test_pred = models[2].predict(tfdf.keras.pd_dataframe_to_tf_dataset(test_final)).flatten()\n",
    "\n",
    "submission = pd.DataFrame({\n",
    "    'Id': test_inputs.index, \n",
    "    'class_0': 1 - test_pred, \n",
    "    'class_1': test_pred\n",
    "})\n",
    "\n",
    "submission.to_csv(\"submission.csv\", index=False)"
   ]
  }
 ],
 "metadata": {
  "kernelspec": {
   "display_name": "Python 3",
   "language": "python",
   "name": "python3"
  },
  "language_info": {
   "codemirror_mode": {
    "name": "ipython",
    "version": 3
   },
   "file_extension": ".py",
   "mimetype": "text/x-python",
   "name": "python",
   "nbconvert_exporter": "python",
   "pygments_lexer": "ipython3",
   "version": "3.10.10"
  },
  "papermill": {
   "default_parameters": {},
   "duration": 45.848322,
   "end_time": "2023-06-30T01:54:36.605574",
   "environment_variables": {},
   "exception": null,
   "input_path": "__notebook__.ipynb",
   "output_path": "__notebook__.ipynb",
   "parameters": {},
   "start_time": "2023-06-30T01:53:50.757252",
   "version": "2.4.0"
  }
 },
 "nbformat": 4,
 "nbformat_minor": 5
}
